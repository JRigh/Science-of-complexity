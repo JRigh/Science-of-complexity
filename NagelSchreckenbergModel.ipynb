{
 "cells": [
  {
   "cell_type": "markdown",
   "metadata": {},
   "source": [
    "# Nagel-Schreckenberg Cellular Automata Model of Vehicular Traffic\n",
    "\n",
    "After watching the traffic jam experiment done by the Japanese researchers, let us learn about a simple model of vehicular traffic that would reproduce salient features of the experiment.\n",
    "\n",
    "This is a cellular automata model introduced by Kai Nagel and Michael Schreckenberg in 1992.\n",
    "\n",
    "<figure>\n",
    "    <img src=\"https://upload.wikimedia.org/wikipedia/commons/thumb/b/b5/Kainagel.jpg/440px-Kainagel.jpg\" width=200>\n",
    "    <figcaption>Kai Nagel</figcaption>\n",
    "</figure>\n",
    "\n",
    "<figure>\n",
    "    <img src=\"https://www.uni-due.de/imperia/md/images/ptt/arbeitsgruppe/fittosize__1200_0_8fe8aeb0c2cf56b90e6ab152d8b06af9_schreckenberg_500n.jpg\" width=200>\n",
    "    <figcaption>Michael Schreckenberg</figcaption>\n",
    "<figure>"
   ]
  },
  {
   "cell_type": "markdown",
   "metadata": {},
   "source": [
    "In the Nagel-Schreckenberg (NS) model, a one-lane unidirectional road is divided into <em>cells</em> that are each between 6.0 m and 7.5 m long. Under safe driving conditions, each cell can only accommodate a single vehicle. In the simplest NS model, we do not distinguish between cars, buses, vans, or trucks. All vehicles are the same, and can have speeds $v = 0, 1, \\dots, v_{\\max}$. For the NS model to reproduce the Japanese experiment qualitatively, all we need is $v_{\\max} = 2$.\n",
    "\n",
    "Suppose at one instant in time $t$, we find $N < L$ vehicles along the road with $L$ cells. Suppose further that vehicle $0 \\leq i \\leq N-1$ is in the $(0 \\leq x_i(t) \\leq L-1)$th cell, and its instantaneous velocity is $0 \\leq v_i(t) \\leq v_{\\max}$. Then the rules for updating the NS model are:\n",
    "<ol>\n",
    "    <li> <b>acceleration.</b> If $v_i(t) < v_{\\max}$, $v_i(t) = v_i(t) + 1$;\n",
    "    <li> <b>slowing down.</b> If vehicle $j$ is the vehicle just ahead of vehicle $i$, and $x_j(t) - x_i(t) \\leq v_i(t)$, reduce the speed of vehicle $i$ to $v_i(t) = x_j(t) - x_i(t) - 1$ to avoid a collision;\n",
    "    <li> <b>randomization.</b> If $v_i(t) > 0$, reduce the speed of vehicle $i$ to $v_i(t) = v_i(t) - 1$ with probability $p$;\n",
    "    <li> <b>vehicle motion.</b> Move all vehicles forward, so that $x_i(t+1) = x_i(t) + v_i(t)$.\n",
    "</ol>"
   ]
  },
  {
   "cell_type": "markdown",
   "metadata": {},
   "source": [
    "The simplest way to simulate the NS model is to keep a list of the $N$ vehicles. But before we create this list of vehicles, let us specify the length of the road as:"
   ]
  },
  {
   "cell_type": "code",
   "execution_count": 1,
   "metadata": {},
   "outputs": [],
   "source": [
    "# length of road\n",
    "L = 100"
   ]
  },
  {
   "cell_type": "markdown",
   "metadata": {},
   "source": [
    "Next, we specify the number of vehicles we want to simulate."
   ]
  },
  {
   "cell_type": "code",
   "execution_count": 2,
   "metadata": {},
   "outputs": [],
   "source": [
    "# number of vehicles\n",
    "N = 25"
   ]
  },
  {
   "cell_type": "markdown",
   "metadata": {},
   "source": [
    "Now, we can create the list of vehicles, at random positions along the road, and with random speeds.\n",
    "\n",
    "However, if we do this by assigning the $N$ vehicles random positions, some vehicles might overlap. This would pose problems for the simulation.\n",
    "\n",
    "Therefore, a safer way to initialize the positions of the $N$ vehicles is to start with $N$ gaps (the first gap being the gap between vehicle $i=0$ and cell $x = 0$ of the road). These gaps can be $1, 2, \\dots, \\lfloor L/N \\rfloor$, so that no vehicle would have a position beyond the $L$ cells of the road."
   ]
  },
  {
   "cell_type": "code",
   "execution_count": 3,
   "metadata": {},
   "outputs": [],
   "source": [
    "# import numpy\n",
    "import numpy as np\n",
    "# create list of gaps\n",
    "gaps = [ np.random.randint(1, 1 + L//N) for i in range(N) ]\n",
    "# create list of positions\n",
    "pos = [ 0 for i in range(N) ]\n",
    "pos[0] = gaps[0]\n",
    "for i in range(1, N):\n",
    "    pos[i] = pos[i-1] + gaps[i]\n",
    "# set vmax\n",
    "vmax = 2\n",
    "# create list of velocities\n",
    "vel = [ np.random.randint(0, vmax+1) for i in range(N) ]"
   ]
  },
  {
   "cell_type": "markdown",
   "metadata": {},
   "source": [
    "Another advantage of creating the positions this way, is that we know by default that the vehicle ahead of vehicle $i$ is vehicle $i+1$.\n",
    "\n",
    "Let us see what we have right now."
   ]
  },
  {
   "cell_type": "code",
   "execution_count": 4,
   "metadata": {},
   "outputs": [
    {
     "name": "stdout",
     "output_type": "stream",
     "text": [
      "i\t x[i]\t v[i]\n",
      "0\t1\t2\n",
      "1\t3\t2\n",
      "2\t6\t0\n",
      "3\t8\t0\n",
      "4\t9\t0\n",
      "5\t10\t0\n",
      "6\t13\t1\n",
      "7\t16\t1\n",
      "8\t20\t0\n",
      "9\t21\t1\n",
      "10\t24\t2\n",
      "11\t28\t2\n",
      "12\t30\t2\n",
      "13\t33\t2\n",
      "14\t36\t1\n",
      "15\t40\t1\n",
      "16\t43\t2\n",
      "17\t47\t0\n",
      "18\t51\t0\n",
      "19\t54\t1\n",
      "20\t55\t1\n",
      "21\t56\t0\n",
      "22\t59\t0\n",
      "23\t63\t2\n",
      "24\t66\t2\n"
     ]
    }
   ],
   "source": [
    "print('i\\t x[i]\\t v[i]')\n",
    "for i in range(N):\n",
    "    print(repr(i) + '\\t' + repr(pos[i]) + '\\t' + repr(vel[i]))"
   ]
  },
  {
   "cell_type": "markdown",
   "metadata": {},
   "source": [
    "To get familiar with the update rules, let us simulate the NS model for a single time step. To do this, we loop over the vehicles, and overwrite the arrays <code>pos</code> and <code>vel</code>, one rule at a time."
   ]
  },
  {
   "cell_type": "code",
   "execution_count": 5,
   "metadata": {},
   "outputs": [],
   "source": [
    "# specify p\n",
    "p = 0.2\n",
    "# for-loop over vehicles\n",
    "for i in range(N):\n",
    "    # acceleration\n",
    "    if vel[i] < vmax:\n",
    "        vel[i] = vel[i] + 1\n",
    "    # slowing down\n",
    "    if i < N-1:\n",
    "        if vel[i] >= pos[i+1] - pos[i]:\n",
    "            vel[i] = pos[i+1] - pos[i] - 1\n",
    "    # impose periodic boundary condition on velocities\n",
    "    else:\n",
    "        if vel[i] >= (L - pos[i] - 1) + pos[0]:\n",
    "            vel[i] = (L - pos[i] - 1) + pos[0] - 1\n",
    "    # random deceleration\n",
    "    if vel[i] >= 1:\n",
    "        if np.random.rand() < p:\n",
    "            vel[i] = vel[i] - 1\n",
    "    # move vehicles\n",
    "    pos[i] = pos[i] + vel[i]\n",
    "    # impose periodic boundary condition on positions\n",
    "    if pos[N-1] >= L:\n",
    "        newpos0 = pos.pop(N-1)\n",
    "        newvel0 = vel.pop(N-1)\n",
    "        pos.insert(0, newpos0-L)\n",
    "        vel.insert(0, newvel0)"
   ]
  },
  {
   "cell_type": "markdown",
   "metadata": {},
   "source": [
    "Let us now see whether we have implemented the update rules correctly."
   ]
  },
  {
   "cell_type": "code",
   "execution_count": 6,
   "metadata": {},
   "outputs": [
    {
     "name": "stdout",
     "output_type": "stream",
     "text": [
      "i\t x[i]\t v[i]\n",
      "0\t2\t1\n",
      "1\t5\t2\n",
      "2\t7\t1\n",
      "3\t8\t0\n",
      "4\t9\t0\n",
      "5\t11\t1\n",
      "6\t15\t2\n",
      "7\t18\t2\n",
      "8\t20\t0\n",
      "9\t23\t2\n",
      "10\t26\t2\n",
      "11\t29\t1\n",
      "12\t32\t2\n",
      "13\t35\t2\n",
      "14\t38\t2\n",
      "15\t42\t2\n",
      "16\t45\t2\n",
      "17\t47\t0\n",
      "18\t51\t0\n",
      "19\t54\t0\n",
      "20\t55\t0\n",
      "21\t57\t1\n",
      "22\t60\t1\n",
      "23\t64\t1\n",
      "24\t68\t2\n"
     ]
    }
   ],
   "source": [
    "print('i\\t x[i]\\t v[i]')\n",
    "for i in range(N):\n",
    "    print(repr(i) + '\\t' + repr(pos[i]) + '\\t' + repr(vel[i]))"
   ]
  },
  {
   "cell_type": "markdown",
   "metadata": {},
   "source": [
    "Before we go on to run longer simulations of the NS model, let us find a better way to visualize the traffic situation, instead of printing out the positions and velocities of the vehicles every time step.\n",
    "\n",
    "Ultimately, we would not be showing the traffic situation at one time step, but would be showing the traffic over the entire simulation as a space-time diagram.\n",
    "\n",
    "Before we can do this, we have to import the PyPlot module."
   ]
  },
  {
   "cell_type": "code",
   "execution_count": 7,
   "metadata": {},
   "outputs": [],
   "source": [
    "# import matplotlib.pyplot\n",
    "import matplotlib.pyplot as plt"
   ]
  },
  {
   "cell_type": "markdown",
   "metadata": {},
   "source": [
    "To plot the space-time diagram, we will use the <code>matshow()</code> function in PyPlot. The function <code>matshow()</code> takes a two-dimensional array as input. Therefore, after setting the number of time steps to simulate, we initialize the array <code>traffic</code> that would become the input of <code>matshow()</code>."
   ]
  },
  {
   "cell_type": "code",
   "execution_count": 8,
   "metadata": {},
   "outputs": [],
   "source": [
    "# set number of time steps to simulate\n",
    "T = 50\n",
    "# initialize traffic array\n",
    "traffic = np.zeros((T,L))"
   ]
  },
  {
   "cell_type": "markdown",
   "metadata": {},
   "source": [
    "Thereafter, we start a for-loop over the time steps, and within it a for-loop over the vehicles, to simulate the NS model. At the start of time step $t$, for vehicle $i$ at $x_i$, with velocity $v_i$, we will do the following:\n",
    "<ol>\n",
    "    <li> set <code>traffic[t, pos[i]] = 1</code> if $v_i = 0$;\n",
    "    <li> set <code>traffic[t, pos[i]] = 2</code> if $v_i = 1$; and\n",
    "    <li> set <code>traffic[t, pos[i]] = 3</code> if $v_i = 2$.\n",
    "</ol>"
   ]
  },
  {
   "cell_type": "code",
   "execution_count": 9,
   "metadata": {},
   "outputs": [],
   "source": [
    "# simulation proper\n",
    "for t in range(T):\n",
    "    # draw to traffic array\n",
    "    for i in range(N):\n",
    "        if vel[i] == 0:\n",
    "            traffic[t, pos[i]] = 1\n",
    "        elif vel[i] == 1:\n",
    "            traffic[t, pos[i]] = 2\n",
    "        else:\n",
    "            traffic[t, pos[i]] = 3\n",
    "    # update traffic\n",
    "    for i in range(N):\n",
    "        # acceleration\n",
    "        if vel[i] < vmax:\n",
    "            vel[i] = vel[i] + 1\n",
    "        # slowing down\n",
    "        if i < N-1:\n",
    "            if vel[i] >= pos[i+1] - pos[i]:\n",
    "                vel[i] = pos[i+1] - pos[i] - 1\n",
    "        # impose periodic boundary condition on velocities\n",
    "        else:\n",
    "            if vel[i] >= (L - pos[i] - 1) + pos[0]:\n",
    "                vel[i] = (L - pos[i] - 1) + pos[0] - 1\n",
    "        # random deceleration\n",
    "        if vel[i] >= 1:\n",
    "            if np.random.rand() < p:\n",
    "                vel[i] = vel[i] - 1\n",
    "        # move vehicles\n",
    "        pos[i] = pos[i] + vel[i]\n",
    "        # impose periodic boundary condition on positions\n",
    "        if pos[N-1] >= L:\n",
    "            newpos0 = pos.pop(N-1)\n",
    "            newvel0 = vel.pop(N-1)\n",
    "            pos.insert(0, newpos0-L)\n",
    "            vel.insert(0, newvel0)"
   ]
  },
  {
   "cell_type": "markdown",
   "metadata": {},
   "source": [
    "Now that the simulation has been successfully completed, let us show the space-time diagram."
   ]
  },
  {
   "cell_type": "code",
   "execution_count": 10,
   "metadata": {},
   "outputs": [
    {
     "data": {
      "image/png": "[encoded data removed]",
      "text/plain": [
       "<Figure size 576x288 with 2 Axes>"
      ]
     },
     "metadata": {
      "needs_background": "light"
     },
     "output_type": "display_data"
    }
   ],
   "source": [
    "plt.matshow(traffic)\n",
    "plt.colorbar()\n",
    "plt.axis('equal')\n",
    "plt.show()"
   ]
  },
  {
   "cell_type": "markdown",
   "metadata": {},
   "source": [
    "As we can see,\n",
    "<ol>\n",
    "    <li> yellow cells represent vehicles moving at $v_{\\max} = 2$;\n",
    "    <li> some yellow cells become green ($v_i = 1$) because of random deceleration;\n",
    "    <li> traffic jams (consisting of bunches of vehicles with zero velocity) form behind regions with too many random decelerations.\n",
    "</ol>"
   ]
  },
  {
   "cell_type": "markdown",
   "metadata": {},
   "source": [
    "# Additional Exercises"
   ]
  },
  {
   "cell_type": "markdown",
   "metadata": {},
   "source": [
    "## Simulations at Different Densities\n",
    "\n",
    "In the above simulation, we have $N = 25$ vehicles over a road with $L = 100$.\n",
    "\n",
    "You should plot the space-time diagrams for simulations at different densities $N/L$ to gain an intuition into the behavior of the NS model."
   ]
  },
  {
   "cell_type": "markdown",
   "metadata": {},
   "source": [
    "## Simulations with Different $v_{\\max}$\n",
    "\n",
    "In the above simulation, we used $v_{\\max} = 2$.\n",
    "\n",
    "Run simulations with other values of $v_{\\max}$, to better understand the behavior of the NS model."
   ]
  },
  {
   "cell_type": "markdown",
   "metadata": {},
   "source": [
    "## Plotting the Fundamental Diagram\n",
    "\n",
    "Choose a smaller region within the road, say $0 \\leq x \\leq 20$, as your measurement region.\n",
    "\n",
    "Every 20 time steps, compute the density $\\rho$, which is the number of vehicles in this region divided by 20, and the average velocity $\\bar{v}$ over all vehicles in this region.\n",
    "\n",
    "Collect a large number of points $(\\rho, \\bar{v})$, and plot the scatter diagram of $\\bar{v}$ against $\\rho$. This is called the fundamental diagram of vehicular traffic."
   ]
  },
  {
   "cell_type": "markdown",
   "metadata": {},
   "source": [
    "# Further Explorations"
   ]
  },
  {
   "cell_type": "markdown",
   "metadata": {},
   "source": [
    "## Two Lanes and Overtaking\n",
    "\n",
    "Most roads have more than one lane, and allows overtaking to occur.\n",
    "\n",
    "Think about how you would modify the simplest NS model shown here, so that you can simulate two-lane vehicular traffic.\n",
    "\n",
    "Besides the additional complication for specifying the positions of vehicles, you will also need to add new rules, so that a vehicle can make use of the second lane to overtake another vehicle."
   ]
  },
  {
   "cell_type": "markdown",
   "metadata": {},
   "source": [
    "## City Traffic and Traffic Lights\n",
    "\n",
    "In this session, we have only discussed vehicular traffic in 1D. Naturally, in a city, vehicular traffic is 2D, on a grid of criss-crossing roads.\n",
    "\n",
    "Besides this challenge to programming the NS model, city traffic is also frequently regulated by traffic lights. Again, think of the rules you need to perform city traffic simulations."
   ]
  }
 ],
 "metadata": {
  "kernelspec": {
   "display_name": "Python 3",
   "language": "python",
   "name": "python3"
  },
  "language_info": {
   "codemirror_mode": {
    "name": "ipython",
    "version": 3
   },
   "file_extension": ".py",
   "mimetype": "text/x-python",
   "name": "python",
   "nbconvert_exporter": "python",
   "pygments_lexer": "ipython3",
   "version": "3.7.6"
  }
 },
 "nbformat": 4,
 "nbformat_minor": 4
}
